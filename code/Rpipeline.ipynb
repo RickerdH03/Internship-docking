{
 "cells": [
  {
   "cell_type": "code",
   "execution_count": null,
   "id": "2944fd27",
   "metadata": {},
   "outputs": [],
   "source": [
    "# Built-in modules\n",
    "import subprocess\n",
    "from pathlib import Path\n",
    "\n",
    "# Third-party modules\n",
    "import py3Dmol\n",
    "from pymol import cmd \n",
    "from ipywidgets import interact, IntSlider\n",
    "\n",
    "# Custom modules\n",
    "from dock import AutoDockVina\n",
    "\n",
    "MOL = '../molecules'"
   ]
  },
  {
   "cell_type": "code",
   "execution_count": null,
   "id": "ce7aa796",
   "metadata": {},
   "outputs": [],
   "source": [
    "# Environment construction\n",
    "conda create -n docking python=3.10\n",
    "conda install -c conda-forge -c schrodinger pymol-bundle\n",
    "pip install -U numpy vina\n",
    "pip install meeko\n",
    "pip install prody\n",
    "pip install py3Dmol\n",
    "pip install ipywidgets"
   ]
  },
  {
   "cell_type": "markdown",
   "id": "e56bd9a0",
   "metadata": {},
   "source": [
    "## Prepare receptor protein and ligand\n"
   ]
  },
  {
   "cell_type": "code",
   "execution_count": null,
   "id": "df380525",
   "metadata": {},
   "outputs": [],
   "source": [
    "# Import experimental structure\n",
    "cmd.fetch(f'{MOL}8ibt')"
   ]
  },
  {
   "cell_type": "code",
   "execution_count": null,
   "id": "baf11245",
   "metadata": {},
   "outputs": [],
   "source": [
    "# Select chain A\n",
    "\n",
    "cmd.select('receptor', 'chain A and not resn HOH')\n",
    "cmd.save(f'{MOL}/8ibt.pdb', 'receptor')\n",
    "# Select chain C (ligand)\n",
    "cmd.select('ligand', 'chain C')\n",
    "cmd.save(f'{MOL}/ligand.mol2', 'ligand') # mol and sdf don't work\n",
    "# PDB -> PDBQT\n",
    "command = f'mk_prepare_receptor.py -i {MOL}/8ibt.pdb -o {MOL}/8ibt -p'\n",
    "subprocess.run(command, shell=True, capture_output=False)\n",
    "command = f'mk_prepare_ligand.py -i {MOL}/ligand.mol2 -o {MOL}/ligand.pdbqt'\n",
    "subprocess.run(command, shell=True, capture_output=False)"
   ]
  },
  {
   "cell_type": "markdown",
   "id": "90b98311",
   "metadata": {},
   "source": [
    "## Choose docking grid"
   ]
  },
  {
   "cell_type": "code",
   "execution_count": null,
   "id": "d163356f",
   "metadata": {},
   "outputs": [],
   "source": [
    "def read_mol(file_path: str) -> str:\n",
    "\n",
    "    with open(file_path, \"r\") as f:\n",
    "        pdbqt = f.readlines()\n",
    "    \n",
    "    # Extract only the lines starting with ATOM or HETATM\n",
    "    pdb_lines = [line for line in pdbqt if line.startswith((\"ATOM\", \"HETATM\", \"MODEL\", \"ENDMDL\"))]\n",
    "    pdb_str = \"\".join(pdb_lines)\n",
    "\n",
    "    return pdb_str\n",
    "\n",
    "def box2pdb(center: list, size: list, spacing = 1) -> str:\n",
    "    lengths = [s * spacing for s in size]\n",
    "    mins = [c - l / 2 for c, l in zip(center, lengths)]\n",
    "    maxs = [c + l / 2 for c, l in zip(center, lengths)]\n",
    "    corners = [\n",
    "        (mins[0], mins[1], mins[2]),\n",
    "        (maxs[0], mins[1], mins[2]),\n",
    "        (maxs[0], maxs[1], mins[2]),\n",
    "        (mins[0], maxs[1], mins[2]),\n",
    "        (mins[0], mins[1], maxs[2]),\n",
    "        (maxs[0], mins[1], maxs[2]),\n",
    "        (maxs[0], maxs[1], maxs[2]),\n",
    "        (mins[0], maxs[1], maxs[2]),\n",
    "    ]\n",
    "\n",
    "    box_pdb = ''\n",
    "    for i, (x, y, z) in enumerate(corners, 1):\n",
    "        box_pdb += f'ATOM      {i}   Ne BOX X   {i}    {x:8.3f}{y:8.3f}{z:8.3f}  1.00 10.00          Ne\\n'\n",
    "\n",
    "    box_pdb += '''\n",
    "    CONECT    1    2\n",
    "    CONECT    1    4\n",
    "    CONECT    1    5\n",
    "    CONECT    2    3\n",
    "    CONECT    2    6\n",
    "    CONECT    3    4\n",
    "    CONECT    3    7\n",
    "    CONECT    4    8\n",
    "    CONECT    5    6\n",
    "    CONECT    5    8\n",
    "    CONECT    6    7\n",
    "    CONECT    7    8\n",
    "    '''\n",
    "    return box_pdb"
   ]
  },
  {
   "cell_type": "code",
   "execution_count": null,
   "id": "4218be05",
   "metadata": {},
   "outputs": [],
   "source": [
    "# Read pdbqt files\n",
    "ligand = read_mol(f'{MOL}/ligand.pdbqt')\n",
    "receptor = read_mol(f'{MOL}/8ibt.pdbqt')\n",
    "\n",
    "# Visualize complex\n",
    "view = py3Dmol.view(width=500, height=500)\n",
    "view.addModel(receptor, 'pdb')\n",
    "view.setStyle({'cartoon': {'color':'spectrum', 'opacity': 0.9}})\n",
    "view.addModel(ligand, 'pdb')\n",
    "view.addStyle({'model':-1}, {\"stick\": {'colorscheme': 'greenCarbon'}})\n",
    "view.zoomTo()\n",
    "view.show()"
   ]
  },
  {
   "cell_type": "code",
   "execution_count": null,
   "id": "abf22ba9",
   "metadata": {},
   "outputs": [],
   "source": [
    "# Create docking grid \n",
    "center = [76, -29, -59]\n",
    "size = [20, 10, 12]\n",
    "box = box2pdb(center, size)\n",
    "\n",
    "# Visualize complex + grid\n",
    "view = py3Dmol.view(width=500, height=500)\n",
    "view.addModel(receptor, 'pdb')\n",
    "view.setStyle({'cartoon': {'color':'spectrum', 'opacity': 0.7}})\n",
    "view.addModel(box, 'pdb')\n",
    "view.addStyle({'elem': 'Ne'}, {'stick': {}})\n",
    "view.addModel(ligand, 'pdb')\n",
    "view.addStyle({'model':-1}, {\"stick\": {'colorscheme': 'greenCarbon'}})\n",
    "view.zoomTo()\n",
    "view.show()"
   ]
  },
  {
   "cell_type": "code",
   "execution_count": null,
   "id": "8fe805c3",
   "metadata": {},
   "outputs": [],
   "source": [
    "# Run docking\n",
    "receptor_file = f'{MOL}/8ibt.pdbqt'\n",
    "ligand_file = f'{MOL}/ligand.pdbqt'\n",
    "vina = AutoDockVina(receptor_file, ligand_file)\n",
    "exhaustiveness = 30\n",
    "num_poses = 20\n",
    "vina.dock(\n",
    "    center=center, \n",
    "    box_size=size, \n",
    "    exhaustiveness=exhaustiveness, \n",
    "    n_poses=num_poses, \n",
    "    output_name=f'{MOL}/output'\n",
    "    ) "
   ]
  },
  {
   "cell_type": "code",
   "execution_count": null,
   "id": "2ac89376",
   "metadata": {},
   "outputs": [],
   "source": [
    "# Report results\n",
    "vina.report()"
   ]
  },
  {
   "cell_type": "code",
   "execution_count": null,
   "id": "53cdad21",
   "metadata": {},
   "outputs": [],
   "source": [
    "# Create docking grid \n",
    "box = box2pdb(center, size)\n",
    "\n",
    "# Visualize complex + grid + poses\n",
    "def slider(pose: int):\n",
    "    print(f'Pose {pose}')\n",
    "    poses = read_mol(f'{MOL}/output.pdbqt')\n",
    "    pose = poses.split('ENDMDL\\n')[:-1][pose - 1]\n",
    "    view = py3Dmol.view(width=500, height=500)\n",
    "    view.addModel(ligand, 'pdb')\n",
    "    view.addStyle({'model':-1}, {\"stick\": {'colorscheme': 'greenCarbon'}})\n",
    "    \n",
    "    view.addModel(box, 'pdb')\n",
    "    view.addStyle({'elem': 'Ne'}, {'stick': {}})\n",
    "    view.zoomTo()\n",
    "    view.addModel(receptor, 'pdb')\n",
    "    view.setStyle({'model':-1}, {'cartoon': {'color':'spectrum', 'opacity': 0.9}})\n",
    "    view.addModel(pose, 'pdb')\n",
    "    view.addStyle({'model':-1}, {\"stick\": {'colorscheme': 'pinkCarbon'}})\n",
    "    \n",
    "    view.show()\n",
    "    \n",
    "\n",
    "interact(slider, pose=IntSlider(min=1, max=num_poses - 1, step=1))"
   ]
  },
  {
   "cell_type": "code",
   "execution_count": null,
   "id": "d2c395f6",
   "metadata": {},
   "outputs": [],
   "source": []
  }
 ],
 "metadata": {
  "kernelspec": {
   "display_name": "docking",
   "language": "python",
   "name": "python3"
  },
  "language_info": {
   "codemirror_mode": {
    "name": "ipython",
    "version": 3
   },
   "file_extension": ".py",
   "mimetype": "text/x-python",
   "name": "python",
   "nbconvert_exporter": "python",
   "pygments_lexer": "ipython3",
   "version": "3.10.17"
  }
 },
 "nbformat": 4,
 "nbformat_minor": 5
}
