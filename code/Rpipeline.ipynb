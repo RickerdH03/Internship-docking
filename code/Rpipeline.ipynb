{
 "cells": [
  {
   "cell_type": "code",
   "execution_count": 1,
   "id": "2944fd27",
   "metadata": {},
   "outputs": [],
   "source": [
    "# Built-in modules\n",
    "import subprocess\n",
    "from pathlib import Path\n",
    "\n",
    "# Third-party modules\n",
    "import py3Dmol\n",
    "from pymol import cmd \n",
    "from ipywidgets import interact, IntSlider\n",
    "\n",
    "# Custom modules\n",
    "#from dock import AutoDockVina\n",
    "\n",
    "MOL = '../molecules'"
   ]
  },
  {
   "cell_type": "code",
   "execution_count": null,
   "id": "ce7aa796",
   "metadata": {},
   "outputs": [],
   "source": [
    "# Environment construction\n",
    "conda create -n docking python=3.10\n",
    "conda install -c conda-forge -c schrodinger pymol-bundle\n",
    "pip install -U numpy vina\n",
    "pip install meeko\n",
    "pip install prody\n",
    "pip install py3Dmol\n",
    "pip install ipywidgets"
   ]
  },
  {
   "cell_type": "markdown",
   "id": "e56bd9a0",
   "metadata": {},
   "source": [
    "## Prepare receptor protein and ligand\n"
   ]
  },
  {
   "cell_type": "code",
   "execution_count": null,
   "id": "df380525",
   "metadata": {},
   "outputs": [],
   "source": [
    "# Import experimental structure\n",
    "cmd.fetch(f'{MOL}8ibt')"
   ]
  },
  {
   "cell_type": "code",
   "execution_count": 3,
   "id": "baf11245",
   "metadata": {},
   "outputs": [
    {
     "ename": "FileNotFoundError",
     "evalue": "[Errno 2] No such file or directory: '../molecules/breve.pdb'",
     "output_type": "error",
     "traceback": [
      "\u001b[1;31m---------------------------------------------------------------------------\u001b[0m",
      "\u001b[1;31mFileNotFoundError\u001b[0m                         Traceback (most recent call last)",
      "Cell \u001b[1;32mIn[3], line 3\u001b[0m\n\u001b[0;32m      1\u001b[0m \u001b[38;5;66;03m# Select chain A\u001b[39;00m\n\u001b[0;32m      2\u001b[0m cmd\u001b[38;5;241m.\u001b[39mselect(\u001b[38;5;124m'\u001b[39m\u001b[38;5;124mreceptor\u001b[39m\u001b[38;5;124m'\u001b[39m, \u001b[38;5;124m'\u001b[39m\u001b[38;5;124mchain A and not resn HOH\u001b[39m\u001b[38;5;124m'\u001b[39m)\n\u001b[1;32m----> 3\u001b[0m \u001b[43mcmd\u001b[49m\u001b[38;5;241;43m.\u001b[39;49m\u001b[43msave\u001b[49m\u001b[43m(\u001b[49m\u001b[38;5;124;43mf\u001b[39;49m\u001b[38;5;124;43m'\u001b[39;49m\u001b[38;5;132;43;01m{\u001b[39;49;00m\u001b[43mMOL\u001b[49m\u001b[38;5;132;43;01m}\u001b[39;49;00m\u001b[38;5;124;43m/breve.pdb\u001b[39;49m\u001b[38;5;124;43m'\u001b[39;49m\u001b[43m,\u001b[49m\u001b[43m \u001b[49m\u001b[38;5;124;43m'\u001b[39;49m\u001b[38;5;124;43mreceptor\u001b[39;49m\u001b[38;5;124;43m'\u001b[39;49m\u001b[43m)\u001b[49m\n\u001b[0;32m      4\u001b[0m \u001b[38;5;66;03m# Select chain C (ligand)\u001b[39;00m\n\u001b[0;32m      5\u001b[0m cmd\u001b[38;5;241m.\u001b[39mselect(\u001b[38;5;124m'\u001b[39m\u001b[38;5;124mligand\u001b[39m\u001b[38;5;124m'\u001b[39m, \u001b[38;5;124m'\u001b[39m\u001b[38;5;124mchain C\u001b[39m\u001b[38;5;124m'\u001b[39m)\n",
      "File \u001b[1;32mc:\\Users\\rickh\\AppData\\Local\\r-miniconda\\envs\\docking\\lib\\site-packages\\pymol\\exporting.py:948\u001b[0m, in \u001b[0;36msave\u001b[1;34m(filename, selection, state, format, ref, ref_state, quiet, partial, _self)\u001b[0m\n\u001b[0;32m    945\u001b[0m         \u001b[38;5;28;01mimport\u001b[39;00m\u001b[38;5;250m \u001b[39m\u001b[38;5;21;01mbz2\u001b[39;00m\n\u001b[0;32m    946\u001b[0m         contents \u001b[38;5;241m=\u001b[39m bz2\u001b[38;5;241m.\u001b[39mcompress(contents)\n\u001b[1;32m--> 948\u001b[0m \u001b[38;5;28;01mwith\u001b[39;00m \u001b[43mfopen\u001b[49m\u001b[43m(\u001b[49m\u001b[43mfilename\u001b[49m\u001b[43m,\u001b[49m\u001b[43m \u001b[49m\u001b[38;5;124;43m'\u001b[39;49m\u001b[38;5;124;43mwb\u001b[39;49m\u001b[38;5;124;43m'\u001b[39;49m\u001b[43m)\u001b[49m \u001b[38;5;28;01mas\u001b[39;00m handle:\n\u001b[0;32m    949\u001b[0m     handle\u001b[38;5;241m.\u001b[39mwrite(contents)\n\u001b[0;32m    950\u001b[0m r \u001b[38;5;241m=\u001b[39m DEFAULT_SUCCESS\n",
      "\u001b[1;31mFileNotFoundError\u001b[0m: [Errno 2] No such file or directory: '../molecules/breve.pdb'"
     ]
    }
   ],
   "source": [
    "# Select chain A\n",
    "cmd.select('receptor', 'chain A and not resn HOH')\n",
    "cmd.save(f'{MOL}/breve.pdb', 'receptor')\n",
    "# Select chain C (ligand)\n",
    "cmd.select('ligand', 'chain C')\n",
    "cmd.save(f'{MOL}/ligand.mol2', 'ligand') # mol and sdf don't work\n",
    "# PDB -> PDBQT\n",
    "command = f'mk_prepare_receptor.py -i {MOL}/8ibt.pdb -o {MOL}/breve -p'\n",
    "subprocess.run(command, shell=True, capture_output=False)\n",
    "command = f'mk_prepare_ligand.py -i {MOL}/ligand.mol2 -o {MOL}/ligand.pdbqt'\n",
    "subprocess.run(command, shell=True, capture_output=False)"
   ]
  },
  {
   "cell_type": "markdown",
   "id": "90b98311",
   "metadata": {},
   "source": [
    "## Choose docking grid"
   ]
  },
  {
   "cell_type": "code",
   "execution_count": null,
   "id": "d163356f",
   "metadata": {},
   "outputs": [],
   "source": [
    "def read_mol(file_path: str) -> str:\n",
    "\n",
    "    with open(file_path, \"r\") as f:\n",
    "        pdbqt = f.readlines()\n",
    "    \n",
    "    # Extract only the lines starting with ATOM or HETATM\n",
    "    pdb_lines = [line for line in pdbqt if line.startswith((\"ATOM\", \"HETATM\", \"MODEL\", \"ENDMDL\"))]\n",
    "    pdb_str = \"\".join(pdb_lines)\n",
    "\n",
    "    return pdb_str\n",
    "\n",
    "def box2pdb(center: list, size: list, spacing = 1) -> str:\n",
    "    lengths = [s * spacing for s in size]\n",
    "    mins = [c - l / 2 for c, l in zip(center, lengths)]\n",
    "    maxs = [c + l / 2 for c, l in zip(center, lengths)]\n",
    "    corners = [\n",
    "        (mins[0], mins[1], mins[2]),\n",
    "        (maxs[0], mins[1], mins[2]),\n",
    "        (maxs[0], maxs[1], mins[2]),\n",
    "        (mins[0], maxs[1], mins[2]),\n",
    "        (mins[0], mins[1], maxs[2]),\n",
    "        (maxs[0], mins[1], maxs[2]),\n",
    "        (maxs[0], maxs[1], maxs[2]),\n",
    "        (mins[0], maxs[1], maxs[2]),\n",
    "    ]\n",
    "\n",
    "    box_pdb = ''\n",
    "    for i, (x, y, z) in enumerate(corners, 1):\n",
    "        box_pdb += f'ATOM      {i}   Ne BOX X   {i}    {x:8.3f}{y:8.3f}{z:8.3f}  1.00 10.00          Ne\\n'\n",
    "\n",
    "    box_pdb += '''\n",
    "    CONECT    1    2\n",
    "    CONECT    1    4\n",
    "    CONECT    1    5\n",
    "    CONECT    2    3\n",
    "    CONECT    2    6\n",
    "    CONECT    3    4\n",
    "    CONECT    3    7\n",
    "    CONECT    4    8\n",
    "    CONECT    5    6\n",
    "    CONECT    5    8\n",
    "    CONECT    6    7\n",
    "    CONECT    7    8\n",
    "    '''\n",
    "    return box_pdb"
   ]
  },
  {
   "cell_type": "code",
   "execution_count": null,
   "id": "4218be05",
   "metadata": {},
   "outputs": [],
   "source": [
    "# Read pdbqt files\n",
    "ligand = read_mol(f'{MOL}/ligand.pdbqt')\n",
    "receptor = read_mol(f'{MOL}/8ibt.pdbqt')\n",
    "\n",
    "# Visualize complex\n",
    "view = py3Dmol.view(width=500, height=500)\n",
    "view.addModel(receptor, 'pdb')\n",
    "view.setStyle({'cartoon': {'color':'spectrum', 'opacity': 0.9}})\n",
    "view.addModel(ligand, 'pdb')\n",
    "view.addStyle({'model':-1}, {\"stick\": {'colorscheme': 'greenCarbon'}})\n",
    "view.zoomTo()\n",
    "view.show()"
   ]
  },
  {
   "cell_type": "code",
   "execution_count": null,
   "id": "abf22ba9",
   "metadata": {},
   "outputs": [],
   "source": [
    "# Create docking grid \n",
    "center = [76, -29, -59]\n",
    "size = [20, 10, 12]\n",
    "box = box2pdb(center, size)\n",
    "\n",
    "# Visualize complex + grid\n",
    "view = py3Dmol.view(width=500, height=500)\n",
    "view.addModel(receptor, 'pdb')\n",
    "view.setStyle({'cartoon': {'color':'spectrum', 'opacity': 0.7}})\n",
    "view.addModel(box, 'pdb')\n",
    "view.addStyle({'elem': 'Ne'}, {'stick': {}})\n",
    "view.addModel(ligand, 'pdb')\n",
    "view.addStyle({'model':-1}, {\"stick\": {'colorscheme': 'greenCarbon'}})\n",
    "view.zoomTo()\n",
    "view.show()"
   ]
  },
  {
   "cell_type": "code",
   "execution_count": null,
   "id": "8fe805c3",
   "metadata": {},
   "outputs": [],
   "source": [
    "# Run docking\n",
    "receptor_file = f'{MOL}/8ibt.pdbqt'\n",
    "ligand_file = f'{MOL}/ligand.pdbqt'\n",
    "vina = AutoDockVina(receptor_file, ligand_file)\n",
    "exhaustiveness = 30\n",
    "num_poses = 20\n",
    "vina.dock(\n",
    "    center=center, \n",
    "    box_size=size, \n",
    "    exhaustiveness=exhaustiveness, \n",
    "    n_poses=num_poses, \n",
    "    output_name=f'{MOL}/output'\n",
    "    ) "
   ]
  },
  {
   "cell_type": "code",
   "execution_count": null,
   "id": "2ac89376",
   "metadata": {},
   "outputs": [],
   "source": [
    "# Report results\n",
    "vina.report()"
   ]
  },
  {
   "cell_type": "code",
   "execution_count": null,
   "id": "53cdad21",
   "metadata": {},
   "outputs": [],
   "source": [
    "# Create docking grid \n",
    "box = box2pdb(center, size)\n",
    "\n",
    "# Visualize complex + grid + poses\n",
    "def slider(pose: int):\n",
    "    print(f'Pose {pose}')\n",
    "    poses = read_mol(f'{MOL}/output.pdbqt')\n",
    "    pose = poses.split('ENDMDL\\n')[:-1][pose - 1]\n",
    "    view = py3Dmol.view(width=500, height=500)\n",
    "    view.addModel(ligand, 'pdb')\n",
    "    view.addStyle({'model':-1}, {\"stick\": {'colorscheme': 'greenCarbon'}})\n",
    "    \n",
    "    view.addModel(box, 'pdb')\n",
    "    view.addStyle({'elem': 'Ne'}, {'stick': {}})\n",
    "    view.zoomTo()\n",
    "    view.addModel(receptor, 'pdb')\n",
    "    view.setStyle({'model':-1}, {'cartoon': {'color':'spectrum', 'opacity': 0.9}})\n",
    "    view.addModel(pose, 'pdb')\n",
    "    view.addStyle({'model':-1}, {\"stick\": {'colorscheme': 'pinkCarbon'}})\n",
    "    \n",
    "    view.show()\n",
    "    \n",
    "\n",
    "interact(slider, pose=IntSlider(min=1, max=num_poses - 1, step=1))"
   ]
  },
  {
   "cell_type": "code",
   "execution_count": null,
   "id": "d2c395f6",
   "metadata": {},
   "outputs": [],
   "source": []
  }
 ],
 "metadata": {
  "kernelspec": {
   "display_name": "Python 3",
   "language": "python",
   "name": "python3"
  },
  "language_info": {
   "codemirror_mode": {
    "name": "ipython",
    "version": 3
   },
   "file_extension": ".py",
   "mimetype": "text/x-python",
   "name": "python",
   "nbconvert_exporter": "python",
   "pygments_lexer": "ipython3",
   "version": "3.10.16"
  }
 },
 "nbformat": 4,
 "nbformat_minor": 5
}
