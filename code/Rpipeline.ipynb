{
 "cells": [
  {
   "cell_type": "code",
   "execution_count": 26,
   "id": "2944fd27",
   "metadata": {},
   "outputs": [
    {
     "ename": "ModuleNotFoundError",
     "evalue": "No module named 'Rdock'",
     "output_type": "error",
     "traceback": [
      "\u001b[1;31m---------------------------------------------------------------------------\u001b[0m",
      "\u001b[1;31mModuleNotFoundError\u001b[0m                       Traceback (most recent call last)",
      "Cell \u001b[1;32mIn[26], line 11\u001b[0m\n\u001b[0;32m      8\u001b[0m \u001b[38;5;28;01mfrom\u001b[39;00m\u001b[38;5;250m \u001b[39m\u001b[38;5;21;01mipywidgets\u001b[39;00m\u001b[38;5;250m \u001b[39m\u001b[38;5;28;01mimport\u001b[39;00m interact, IntSlider\n\u001b[0;32m     10\u001b[0m \u001b[38;5;66;03m# Custom modules\u001b[39;00m\n\u001b[1;32m---> 11\u001b[0m \u001b[38;5;28;01mfrom\u001b[39;00m\u001b[38;5;250m \u001b[39m\u001b[38;5;21;01mRdock\u001b[39;00m\u001b[38;5;250m \u001b[39m\u001b[38;5;28;01mimport\u001b[39;00m AutoDockVina\n\u001b[0;32m     12\u001b[0m MOL \u001b[38;5;241m=\u001b[39m \u001b[38;5;124m'\u001b[39m\u001b[38;5;124m../molecules\u001b[39m\u001b[38;5;124m'\u001b[39m\n",
      "\u001b[1;31mModuleNotFoundError\u001b[0m: No module named 'Rdock'"
     ]
    }
   ],
   "source": [
    "# Built-in modules\n",
    "import subprocess\n",
    "from pathlib import Path\n",
    "\n",
    "# Third-party modules\n",
    "import py3Dmol\n",
    "#from pymol import cmd \n",
    "from ipywidgets import interact, IntSlider\n",
    "\n",
    "# Custom modules\n",
    "from Rdock import AutoDockVina\n",
    "MOL = '../molecules'"
   ]
  },
  {
   "cell_type": "code",
   "execution_count": null,
   "id": "ce7aa796",
   "metadata": {},
   "outputs": [],
   "source": [
    "# Environment construction\n",
    "conda create -n docking python=3.10\n",
    "conda install -c conda-forge -c schrodinger pymol-bundle\n",
    "pip install -U numpy vina\n",
    "pip install meeko\n",
    "pip install prody\n",
    "pip install py3Dmol\n",
    "pip install ipywidgets"
   ]
  },
  {
   "cell_type": "markdown",
   "id": "e56bd9a0",
   "metadata": {},
   "source": [
    "## Prepare receptor protein and ligand\n"
   ]
  },
  {
   "cell_type": "code",
   "execution_count": null,
   "id": "df380525",
   "metadata": {},
   "outputs": [],
   "source": [
    "# Import experimental structure\n",
    "cmd.fetch(f'{MOL}8ibt')"
   ]
  },
  {
   "cell_type": "code",
   "execution_count": 21,
   "id": "baf11245",
   "metadata": {},
   "outputs": [
    {
     "data": {
      "text/plain": [
       "CompletedProcess(args='mk_prepare_ligand.py -i ../molecules/ligand.mol2 -o ../molecules/ligand.pdbqt', returncode=1)"
      ]
     },
     "execution_count": 21,
     "metadata": {},
     "output_type": "execute_result"
    }
   ],
   "source": [
    "# Select chain A\n",
    "\n",
    "#cmd.select('receptor', 'chain A and not resn HOH')\n",
    "#cmd.save(f'{MOL}/8ibt.pdb', 'receptor')\n",
    "# Select chain C (ligand)\n",
    "#cmd.select('ligand', 'chain C')\n",
    "#cmd.save(f'{MOL}/ligand.mol2', 'ligand') # mol and sdf don't work\n",
    "# PDB -> PDBQT\n",
    "command = f'mk_prepare_receptor.py -i {MOL}/breve.pdb -o {MOL}/breve -p'\n",
    "subprocess.run(command, shell=True, capture_output=False)\n",
    "command = f'mk_prepare_ligand.py -i {MOL}/ligand.mol2 -o {MOL}/ligand.pdbqt'\n",
    "subprocess.run(command, shell=True, capture_output=False)"
   ]
  },
  {
   "cell_type": "markdown",
   "id": "90b98311",
   "metadata": {},
   "source": [
    "## Choose docking grid"
   ]
  },
  {
   "cell_type": "code",
   "execution_count": 22,
   "id": "d163356f",
   "metadata": {},
   "outputs": [],
   "source": [
    "def read_mol(file_path: str) -> str:\n",
    "\n",
    "    with open(file_path, \"r\") as f:\n",
    "        pdbqt = f.readlines()\n",
    "    \n",
    "    # Extract only the lines starting with ATOM or HETATM\n",
    "    pdb_lines = [line for line in pdbqt if line.startswith((\"ATOM\", \"HETATM\", \"MODEL\", \"ENDMDL\"))]\n",
    "    pdb_str = \"\".join(pdb_lines)\n",
    "\n",
    "    return pdb_str\n",
    "\n",
    "def box2pdb(center: list, size: list, spacing = 1) -> str:\n",
    "    lengths = [s * spacing for s in size]\n",
    "    mins = [c - l / 2 for c, l in zip(center, lengths)]\n",
    "    maxs = [c + l / 2 for c, l in zip(center, lengths)]\n",
    "    corners = [\n",
    "        (mins[0], mins[1], mins[2]),\n",
    "        (maxs[0], mins[1], mins[2]),\n",
    "        (maxs[0], maxs[1], mins[2]),\n",
    "        (mins[0], maxs[1], mins[2]),\n",
    "        (mins[0], mins[1], maxs[2]),\n",
    "        (maxs[0], mins[1], maxs[2]),\n",
    "        (maxs[0], maxs[1], maxs[2]),\n",
    "        (mins[0], maxs[1], maxs[2]),\n",
    "    ]\n",
    "\n",
    "    box_pdb = ''\n",
    "    for i, (x, y, z) in enumerate(corners, 1):\n",
    "        box_pdb += f'ATOM      {i}   Ne BOX X   {i}    {x:8.3f}{y:8.3f}{z:8.3f}  1.00 10.00          Ne\\n'\n",
    "\n",
    "    box_pdb += '''\n",
    "    CONECT    1    2\n",
    "    CONECT    1    4\n",
    "    CONECT    1    5\n",
    "    CONECT    2    3\n",
    "    CONECT    2    6\n",
    "    CONECT    3    4\n",
    "    CONECT    3    7\n",
    "    CONECT    4    8\n",
    "    CONECT    5    6\n",
    "    CONECT    5    8\n",
    "    CONECT    6    7\n",
    "    CONECT    7    8\n",
    "    '''\n",
    "    return box_pdb"
   ]
  },
  {
   "cell_type": "code",
   "execution_count": 27,
   "id": "4218be05",
   "metadata": {},
   "outputs": [
    {
     "data": {
      "application/3dmoljs_load.v0": "<div id=\"3dmolviewer_17453136298985713\"  style=\"position: relative; width: 500px; height: 500px;\">\n        <p id=\"3dmolwarning_17453136298985713\" style=\"background-color:#ffcccc;color:black\">3Dmol.js failed to load for some reason.  Please check your browser console for error messages.<br></p>\n        </div>\n<script>\n\nvar loadScriptAsync = function(uri){\n  return new Promise((resolve, reject) => {\n    //this is to ignore the existence of requirejs amd\n    var savedexports, savedmodule;\n    if (typeof exports !== 'undefined') savedexports = exports;\n    else exports = {}\n    if (typeof module !== 'undefined') savedmodule = module;\n    else module = {}\n\n    var tag = document.createElement('script');\n    tag.src = uri;\n    tag.async = true;\n    tag.onload = () => {\n        exports = savedexports;\n        module = savedmodule;\n        resolve();\n    };\n  var firstScriptTag = document.getElementsByTagName('script')[0];\n  firstScriptTag.parentNode.insertBefore(tag, firstScriptTag);\n});\n};\n\nif(typeof $3Dmolpromise === 'undefined') {\n$3Dmolpromise = null;\n  $3Dmolpromise = loadScriptAsync('https://cdnjs.cloudflare.com/ajax/libs/3Dmol/2.4.2/3Dmol-min.js');\n}\n\nvar viewer_17453136298985713 = null;\nvar warn = document.getElementById(\"3dmolwarning_17453136298985713\");\nif(warn) {\n    warn.parentNode.removeChild(warn);\n}\n$3Dmolpromise.then(function() {\nviewer_17453136298985713 = $3Dmol.createViewer(document.getElementById(\"3dmolviewer_17453136298985713\"),{backgroundColor:\"white\"});\nviewer_17453136298985713.zoomTo();\n\tviewer_17453136298985713.addModel(\"\",\"pdb\");\n\tviewer_17453136298985713.setStyle({\"cartoon\": {\"color\": \"spectrum\", \"opacity\": 0.9}});\n\tviewer_17453136298985713.addModel(\"ATOM      1  O   UNL     1      75.728 -29.210 -60.684  1.00  0.00    -0.338 OA\\nATOM      2  C   UNL     1      76.728 -30.165 -60.395  1.00  0.00     0.088 C \\nATOM      3  C   UNL     1      78.652 -30.488 -58.969  1.00  0.00     0.216 C \\nATOM      4  C   UNL     1      77.599 -29.487 -59.426  1.00  0.00    -0.021 C \\nATOM      5  O   UNL     1      79.464 -30.889 -60.095  1.00  0.00    -0.338 OA\\nATOM      6  C   UNL     1      78.725 -31.463 -61.212  1.00  0.00     0.081 C \\nATOM      7  C   UNL     1      77.592 -30.514 -61.602  1.00  0.00    -0.053 C \\nATOM      8  O   UNL     1      76.820 -28.923 -58.382  1.00  0.00    -0.844 OA\\nATOM      9  O   UNL     1      78.195 -29.303 -62.092  1.00  0.00    -0.846 OA\\nATOM     10  O   UNL     1      79.376 -29.740 -57.991  1.00  0.00    -0.334 OA\\nATOM     11  C   UNL     1      80.047 -30.600 -57.115  1.00  0.00     0.123 C \\nATOM     12  C   UNL     1      81.665 -30.734 -54.782  1.00  0.00    -0.003 C \\nATOM     13  C   UNL     1      82.284 -31.123 -56.117  1.00  0.00    -0.115 C \\nATOM     14  O   UNL     1      80.274 -31.043 -54.783  1.00  0.00    -0.380 OA\\nATOM     15  C   UNL     1      81.539 -30.344 -57.204  1.00  0.00    -0.094 C \\nATOM     16  C   UNL     1      79.496 -30.311 -55.749  1.00  0.00     0.118 C \\nATOM     17  O   UNL     1      82.203 -31.426 -53.734  1.00  0.00    -0.828 OA\\nATOM     18  O   UNL     1      83.684 -30.856 -56.083  1.00  0.00    -0.849 OA\\nATOM     19  O   UNL     1      81.957 -30.625 -58.532  1.00  0.00    -0.848 OA\\nATOM     20  C   UNL     1      78.059 -30.780 -55.590  1.00  0.00    -0.093 C \\nATOM     21  O   UNL     1      77.578 -30.397 -54.303  1.00  0.00    -0.848 OA\\nATOM     22  C   UNL     1      79.725 -31.668 -62.348  1.00  0.00    -0.097 C \\nATOM     23  O   UNL     1      81.068 -31.882 -61.874  1.00  0.00    -0.848 OA\\nATOM     24  C   UNL     1      74.378 -29.621 -60.688  1.00  0.00     0.215 C \\nATOM     25  C   UNL     1      73.518 -28.538 -61.368  1.00  0.00    -0.013 C \\nATOM     26  O   UNL     1      74.167 -30.897 -61.279  1.00  0.00    -0.338 OA\\nATOM     27  C   UNL     1      72.047 -28.968 -61.292  1.00  0.00     0.087 C \\nATOM     28  C   UNL     1      72.821 -31.353 -61.072  1.00  0.00     0.081 C \\nATOM     29  C   UNL     1      71.846 -30.417 -61.801  1.00  0.00    -0.053 C \\nATOM     30  O   UNL     1      70.541 -30.955 -61.552  1.00  0.00    -0.846 OA\\nATOM     31  N   UNL     1      73.669 -27.167 -60.911  1.00  0.00    -0.641 NA\\nATOM     32  C   UNL     1      74.134 -26.769 -59.714  1.00  0.00     0.061 C \\nATOM     33  O   UNL     1      74.318 -27.542 -58.770  1.00  0.00    -0.320 OA\\nATOM     34  C   UNL     1      74.490 -25.322 -59.593  1.00  0.00     0.051 C \\nATOM     35  O   UNL     1      71.413 -27.982 -62.096  1.00  0.00    -0.338 OA\\nATOM     36  C   UNL     1      70.072 -27.530 -61.687  1.00  0.00     0.212 C \\nATOM     37  C   UNL     1      69.672 -26.215 -62.381  1.00  0.00    -0.069 C \\nATOM     38  O   UNL     1      69.216 -28.627 -62.050  1.00  0.00    -0.338 OA\\nATOM     39  C   UNL     1      68.141 -26.030 -62.562  1.00  0.00    -0.138 C \\nATOM     40  C   UNL     1      67.855 -28.355 -61.649  1.00  0.00     0.077 C \\nATOM     41  C   UNL     1      67.358 -27.314 -62.620  1.00  0.00    -0.101 C \\nATOM     42  O   UNL     1      70.274 -25.160 -61.658  1.00  0.00    -0.847 OA\\nATOM     43  O   UNL     1      67.880 -25.393 -63.814  1.00  0.00    -0.851 OA\\nATOM     44  O   UNL     1      67.579 -27.838 -63.923  1.00  0.00    -0.848 OA\\nATOM     45  C   UNL     1      67.053 -29.665 -61.647  1.00  0.00    -0.097 C \\nATOM     46  O   UNL     1      67.038 -30.415 -62.854  1.00  0.00    -0.848 OA\\nATOM     47  C   UNL     1      72.811 -32.788 -61.546  1.00  0.00    -0.097 C \\nATOM     48  O   UNL     1      73.202 -32.858 -62.934  1.00  0.00    -0.848 OA\\n\",\"pdb\");\n\tviewer_17453136298985713.addStyle({\"model\": -1},{\"stick\": {\"colorscheme\": \"greenCarbon\"}});\n\tviewer_17453136298985713.zoomTo();\nviewer_17453136298985713.render();\n});\n</script>",
      "text/html": [
       "<div id=\"3dmolviewer_17453136298985713\"  style=\"position: relative; width: 500px; height: 500px;\">\n",
       "        <p id=\"3dmolwarning_17453136298985713\" style=\"background-color:#ffcccc;color:black\">3Dmol.js failed to load for some reason.  Please check your browser console for error messages.<br></p>\n",
       "        </div>\n",
       "<script>\n",
       "\n",
       "var loadScriptAsync = function(uri){\n",
       "  return new Promise((resolve, reject) => {\n",
       "    //this is to ignore the existence of requirejs amd\n",
       "    var savedexports, savedmodule;\n",
       "    if (typeof exports !== 'undefined') savedexports = exports;\n",
       "    else exports = {}\n",
       "    if (typeof module !== 'undefined') savedmodule = module;\n",
       "    else module = {}\n",
       "\n",
       "    var tag = document.createElement('script');\n",
       "    tag.src = uri;\n",
       "    tag.async = true;\n",
       "    tag.onload = () => {\n",
       "        exports = savedexports;\n",
       "        module = savedmodule;\n",
       "        resolve();\n",
       "    };\n",
       "  var firstScriptTag = document.getElementsByTagName('script')[0];\n",
       "  firstScriptTag.parentNode.insertBefore(tag, firstScriptTag);\n",
       "});\n",
       "};\n",
       "\n",
       "if(typeof $3Dmolpromise === 'undefined') {\n",
       "$3Dmolpromise = null;\n",
       "  $3Dmolpromise = loadScriptAsync('https://cdnjs.cloudflare.com/ajax/libs/3Dmol/2.4.2/3Dmol-min.js');\n",
       "}\n",
       "\n",
       "var viewer_17453136298985713 = null;\n",
       "var warn = document.getElementById(\"3dmolwarning_17453136298985713\");\n",
       "if(warn) {\n",
       "    warn.parentNode.removeChild(warn);\n",
       "}\n",
       "$3Dmolpromise.then(function() {\n",
       "viewer_17453136298985713 = $3Dmol.createViewer(document.getElementById(\"3dmolviewer_17453136298985713\"),{backgroundColor:\"white\"});\n",
       "viewer_17453136298985713.zoomTo();\n",
       "\tviewer_17453136298985713.addModel(\"\",\"pdb\");\n",
       "\tviewer_17453136298985713.setStyle({\"cartoon\": {\"color\": \"spectrum\", \"opacity\": 0.9}});\n",
       "\tviewer_17453136298985713.addModel(\"ATOM      1  O   UNL     1      75.728 -29.210 -60.684  1.00  0.00    -0.338 OA\\nATOM      2  C   UNL     1      76.728 -30.165 -60.395  1.00  0.00     0.088 C \\nATOM      3  C   UNL     1      78.652 -30.488 -58.969  1.00  0.00     0.216 C \\nATOM      4  C   UNL     1      77.599 -29.487 -59.426  1.00  0.00    -0.021 C \\nATOM      5  O   UNL     1      79.464 -30.889 -60.095  1.00  0.00    -0.338 OA\\nATOM      6  C   UNL     1      78.725 -31.463 -61.212  1.00  0.00     0.081 C \\nATOM      7  C   UNL     1      77.592 -30.514 -61.602  1.00  0.00    -0.053 C \\nATOM      8  O   UNL     1      76.820 -28.923 -58.382  1.00  0.00    -0.844 OA\\nATOM      9  O   UNL     1      78.195 -29.303 -62.092  1.00  0.00    -0.846 OA\\nATOM     10  O   UNL     1      79.376 -29.740 -57.991  1.00  0.00    -0.334 OA\\nATOM     11  C   UNL     1      80.047 -30.600 -57.115  1.00  0.00     0.123 C \\nATOM     12  C   UNL     1      81.665 -30.734 -54.782  1.00  0.00    -0.003 C \\nATOM     13  C   UNL     1      82.284 -31.123 -56.117  1.00  0.00    -0.115 C \\nATOM     14  O   UNL     1      80.274 -31.043 -54.783  1.00  0.00    -0.380 OA\\nATOM     15  C   UNL     1      81.539 -30.344 -57.204  1.00  0.00    -0.094 C \\nATOM     16  C   UNL     1      79.496 -30.311 -55.749  1.00  0.00     0.118 C \\nATOM     17  O   UNL     1      82.203 -31.426 -53.734  1.00  0.00    -0.828 OA\\nATOM     18  O   UNL     1      83.684 -30.856 -56.083  1.00  0.00    -0.849 OA\\nATOM     19  O   UNL     1      81.957 -30.625 -58.532  1.00  0.00    -0.848 OA\\nATOM     20  C   UNL     1      78.059 -30.780 -55.590  1.00  0.00    -0.093 C \\nATOM     21  O   UNL     1      77.578 -30.397 -54.303  1.00  0.00    -0.848 OA\\nATOM     22  C   UNL     1      79.725 -31.668 -62.348  1.00  0.00    -0.097 C \\nATOM     23  O   UNL     1      81.068 -31.882 -61.874  1.00  0.00    -0.848 OA\\nATOM     24  C   UNL     1      74.378 -29.621 -60.688  1.00  0.00     0.215 C \\nATOM     25  C   UNL     1      73.518 -28.538 -61.368  1.00  0.00    -0.013 C \\nATOM     26  O   UNL     1      74.167 -30.897 -61.279  1.00  0.00    -0.338 OA\\nATOM     27  C   UNL     1      72.047 -28.968 -61.292  1.00  0.00     0.087 C \\nATOM     28  C   UNL     1      72.821 -31.353 -61.072  1.00  0.00     0.081 C \\nATOM     29  C   UNL     1      71.846 -30.417 -61.801  1.00  0.00    -0.053 C \\nATOM     30  O   UNL     1      70.541 -30.955 -61.552  1.00  0.00    -0.846 OA\\nATOM     31  N   UNL     1      73.669 -27.167 -60.911  1.00  0.00    -0.641 NA\\nATOM     32  C   UNL     1      74.134 -26.769 -59.714  1.00  0.00     0.061 C \\nATOM     33  O   UNL     1      74.318 -27.542 -58.770  1.00  0.00    -0.320 OA\\nATOM     34  C   UNL     1      74.490 -25.322 -59.593  1.00  0.00     0.051 C \\nATOM     35  O   UNL     1      71.413 -27.982 -62.096  1.00  0.00    -0.338 OA\\nATOM     36  C   UNL     1      70.072 -27.530 -61.687  1.00  0.00     0.212 C \\nATOM     37  C   UNL     1      69.672 -26.215 -62.381  1.00  0.00    -0.069 C \\nATOM     38  O   UNL     1      69.216 -28.627 -62.050  1.00  0.00    -0.338 OA\\nATOM     39  C   UNL     1      68.141 -26.030 -62.562  1.00  0.00    -0.138 C \\nATOM     40  C   UNL     1      67.855 -28.355 -61.649  1.00  0.00     0.077 C \\nATOM     41  C   UNL     1      67.358 -27.314 -62.620  1.00  0.00    -0.101 C \\nATOM     42  O   UNL     1      70.274 -25.160 -61.658  1.00  0.00    -0.847 OA\\nATOM     43  O   UNL     1      67.880 -25.393 -63.814  1.00  0.00    -0.851 OA\\nATOM     44  O   UNL     1      67.579 -27.838 -63.923  1.00  0.00    -0.848 OA\\nATOM     45  C   UNL     1      67.053 -29.665 -61.647  1.00  0.00    -0.097 C \\nATOM     46  O   UNL     1      67.038 -30.415 -62.854  1.00  0.00    -0.848 OA\\nATOM     47  C   UNL     1      72.811 -32.788 -61.546  1.00  0.00    -0.097 C \\nATOM     48  O   UNL     1      73.202 -32.858 -62.934  1.00  0.00    -0.848 OA\\n\",\"pdb\");\n",
       "\tviewer_17453136298985713.addStyle({\"model\": -1},{\"stick\": {\"colorscheme\": \"greenCarbon\"}});\n",
       "\tviewer_17453136298985713.zoomTo();\n",
       "viewer_17453136298985713.render();\n",
       "});\n",
       "</script>"
      ]
     },
     "metadata": {},
     "output_type": "display_data"
    }
   ],
   "source": [
    "# Read pdbqt files\n",
    "ligand = read_mol('C:/Users/rickh/Internship-docking/molecules/ligand.pdbqt')\n",
    "receptor = read_mol('C:/Users/rickh/Internship-docking/molecules/breve.pdbqt')\n",
    "\n",
    "# Visualize complex\n",
    "view = py3Dmol.view(width=500, height=500)\n",
    "view.addModel(receptor, 'pdb')\n",
    "view.setStyle({'cartoon': {'color':'spectrum', 'opacity': 0.9}})\n",
    "view.addModel(ligand, 'pdb')\n",
    "view.addStyle({'model':-1}, {\"stick\": {'colorscheme': 'greenCarbon'}})\n",
    "view.zoomTo()\n",
    "view.show()"
   ]
  },
  {
   "cell_type": "code",
   "execution_count": 29,
   "id": "abf22ba9",
   "metadata": {},
   "outputs": [
    {
     "data": {
      "application/3dmoljs_load.v0": "<div id=\"3dmolviewer_17453136505500708\"  style=\"position: relative; width: 500px; height: 500px;\">\n        <p id=\"3dmolwarning_17453136505500708\" style=\"background-color:#ffcccc;color:black\">3Dmol.js failed to load for some reason.  Please check your browser console for error messages.<br></p>\n        </div>\n<script>\n\nvar loadScriptAsync = function(uri){\n  return new Promise((resolve, reject) => {\n    //this is to ignore the existence of requirejs amd\n    var savedexports, savedmodule;\n    if (typeof exports !== 'undefined') savedexports = exports;\n    else exports = {}\n    if (typeof module !== 'undefined') savedmodule = module;\n    else module = {}\n\n    var tag = document.createElement('script');\n    tag.src = uri;\n    tag.async = true;\n    tag.onload = () => {\n        exports = savedexports;\n        module = savedmodule;\n        resolve();\n    };\n  var firstScriptTag = document.getElementsByTagName('script')[0];\n  firstScriptTag.parentNode.insertBefore(tag, firstScriptTag);\n});\n};\n\nif(typeof $3Dmolpromise === 'undefined') {\n$3Dmolpromise = null;\n  $3Dmolpromise = loadScriptAsync('https://cdnjs.cloudflare.com/ajax/libs/3Dmol/2.4.2/3Dmol-min.js');\n}\n\nvar viewer_17453136505500708 = null;\nvar warn = document.getElementById(\"3dmolwarning_17453136505500708\");\nif(warn) {\n    warn.parentNode.removeChild(warn);\n}\n$3Dmolpromise.then(function() {\nviewer_17453136505500708 = $3Dmol.createViewer(document.getElementById(\"3dmolviewer_17453136505500708\"),{backgroundColor:\"white\"});\nviewer_17453136505500708.zoomTo();\n\tviewer_17453136505500708.addModel(\"\",\"pdb\");\n\tviewer_17453136505500708.setStyle({\"cartoon\": {\"color\": \"spectrum\", \"opacity\": 0.7}});\n\tviewer_17453136505500708.addModel(\"ATOM      1   Ne BOX X   1      66.000 -34.000 -65.000  1.00 10.00          Ne\\nATOM      2   Ne BOX X   2      86.000 -34.000 -65.000  1.00 10.00          Ne\\nATOM      3   Ne BOX X   3      86.000 -24.000 -65.000  1.00 10.00          Ne\\nATOM      4   Ne BOX X   4      66.000 -24.000 -65.000  1.00 10.00          Ne\\nATOM      5   Ne BOX X   5      66.000 -34.000 -53.000  1.00 10.00          Ne\\nATOM      6   Ne BOX X   6      86.000 -34.000 -53.000  1.00 10.00          Ne\\nATOM      7   Ne BOX X   7      86.000 -24.000 -53.000  1.00 10.00          Ne\\nATOM      8   Ne BOX X   8      66.000 -24.000 -53.000  1.00 10.00          Ne\\n\\n    CONECT    1    2\\n    CONECT    1    4\\n    CONECT    1    5\\n    CONECT    2    3\\n    CONECT    2    6\\n    CONECT    3    4\\n    CONECT    3    7\\n    CONECT    4    8\\n    CONECT    5    6\\n    CONECT    5    8\\n    CONECT    6    7\\n    CONECT    7    8\\n    \",\"pdb\");\n\tviewer_17453136505500708.addStyle({\"elem\": \"Ne\"},{\"stick\": {}});\n\tviewer_17453136505500708.addModel(\"ATOM      1  O   UNL     1      75.728 -29.210 -60.684  1.00  0.00    -0.338 OA\\nATOM      2  C   UNL     1      76.728 -30.165 -60.395  1.00  0.00     0.088 C \\nATOM      3  C   UNL     1      78.652 -30.488 -58.969  1.00  0.00     0.216 C \\nATOM      4  C   UNL     1      77.599 -29.487 -59.426  1.00  0.00    -0.021 C \\nATOM      5  O   UNL     1      79.464 -30.889 -60.095  1.00  0.00    -0.338 OA\\nATOM      6  C   UNL     1      78.725 -31.463 -61.212  1.00  0.00     0.081 C \\nATOM      7  C   UNL     1      77.592 -30.514 -61.602  1.00  0.00    -0.053 C \\nATOM      8  O   UNL     1      76.820 -28.923 -58.382  1.00  0.00    -0.844 OA\\nATOM      9  O   UNL     1      78.195 -29.303 -62.092  1.00  0.00    -0.846 OA\\nATOM     10  O   UNL     1      79.376 -29.740 -57.991  1.00  0.00    -0.334 OA\\nATOM     11  C   UNL     1      80.047 -30.600 -57.115  1.00  0.00     0.123 C \\nATOM     12  C   UNL     1      81.665 -30.734 -54.782  1.00  0.00    -0.003 C \\nATOM     13  C   UNL     1      82.284 -31.123 -56.117  1.00  0.00    -0.115 C \\nATOM     14  O   UNL     1      80.274 -31.043 -54.783  1.00  0.00    -0.380 OA\\nATOM     15  C   UNL     1      81.539 -30.344 -57.204  1.00  0.00    -0.094 C \\nATOM     16  C   UNL     1      79.496 -30.311 -55.749  1.00  0.00     0.118 C \\nATOM     17  O   UNL     1      82.203 -31.426 -53.734  1.00  0.00    -0.828 OA\\nATOM     18  O   UNL     1      83.684 -30.856 -56.083  1.00  0.00    -0.849 OA\\nATOM     19  O   UNL     1      81.957 -30.625 -58.532  1.00  0.00    -0.848 OA\\nATOM     20  C   UNL     1      78.059 -30.780 -55.590  1.00  0.00    -0.093 C \\nATOM     21  O   UNL     1      77.578 -30.397 -54.303  1.00  0.00    -0.848 OA\\nATOM     22  C   UNL     1      79.725 -31.668 -62.348  1.00  0.00    -0.097 C \\nATOM     23  O   UNL     1      81.068 -31.882 -61.874  1.00  0.00    -0.848 OA\\nATOM     24  C   UNL     1      74.378 -29.621 -60.688  1.00  0.00     0.215 C \\nATOM     25  C   UNL     1      73.518 -28.538 -61.368  1.00  0.00    -0.013 C \\nATOM     26  O   UNL     1      74.167 -30.897 -61.279  1.00  0.00    -0.338 OA\\nATOM     27  C   UNL     1      72.047 -28.968 -61.292  1.00  0.00     0.087 C \\nATOM     28  C   UNL     1      72.821 -31.353 -61.072  1.00  0.00     0.081 C \\nATOM     29  C   UNL     1      71.846 -30.417 -61.801  1.00  0.00    -0.053 C \\nATOM     30  O   UNL     1      70.541 -30.955 -61.552  1.00  0.00    -0.846 OA\\nATOM     31  N   UNL     1      73.669 -27.167 -60.911  1.00  0.00    -0.641 NA\\nATOM     32  C   UNL     1      74.134 -26.769 -59.714  1.00  0.00     0.061 C \\nATOM     33  O   UNL     1      74.318 -27.542 -58.770  1.00  0.00    -0.320 OA\\nATOM     34  C   UNL     1      74.490 -25.322 -59.593  1.00  0.00     0.051 C \\nATOM     35  O   UNL     1      71.413 -27.982 -62.096  1.00  0.00    -0.338 OA\\nATOM     36  C   UNL     1      70.072 -27.530 -61.687  1.00  0.00     0.212 C \\nATOM     37  C   UNL     1      69.672 -26.215 -62.381  1.00  0.00    -0.069 C \\nATOM     38  O   UNL     1      69.216 -28.627 -62.050  1.00  0.00    -0.338 OA\\nATOM     39  C   UNL     1      68.141 -26.030 -62.562  1.00  0.00    -0.138 C \\nATOM     40  C   UNL     1      67.855 -28.355 -61.649  1.00  0.00     0.077 C \\nATOM     41  C   UNL     1      67.358 -27.314 -62.620  1.00  0.00    -0.101 C \\nATOM     42  O   UNL     1      70.274 -25.160 -61.658  1.00  0.00    -0.847 OA\\nATOM     43  O   UNL     1      67.880 -25.393 -63.814  1.00  0.00    -0.851 OA\\nATOM     44  O   UNL     1      67.579 -27.838 -63.923  1.00  0.00    -0.848 OA\\nATOM     45  C   UNL     1      67.053 -29.665 -61.647  1.00  0.00    -0.097 C \\nATOM     46  O   UNL     1      67.038 -30.415 -62.854  1.00  0.00    -0.848 OA\\nATOM     47  C   UNL     1      72.811 -32.788 -61.546  1.00  0.00    -0.097 C \\nATOM     48  O   UNL     1      73.202 -32.858 -62.934  1.00  0.00    -0.848 OA\\n\",\"pdb\");\n\tviewer_17453136505500708.addStyle({\"model\": -1},{\"stick\": {\"colorscheme\": \"greenCarbon\"}});\n\tviewer_17453136505500708.zoomTo();\nviewer_17453136505500708.render();\n});\n</script>",
      "text/html": [
       "<div id=\"3dmolviewer_17453136505500708\"  style=\"position: relative; width: 500px; height: 500px;\">\n",
       "        <p id=\"3dmolwarning_17453136505500708\" style=\"background-color:#ffcccc;color:black\">3Dmol.js failed to load for some reason.  Please check your browser console for error messages.<br></p>\n",
       "        </div>\n",
       "<script>\n",
       "\n",
       "var loadScriptAsync = function(uri){\n",
       "  return new Promise((resolve, reject) => {\n",
       "    //this is to ignore the existence of requirejs amd\n",
       "    var savedexports, savedmodule;\n",
       "    if (typeof exports !== 'undefined') savedexports = exports;\n",
       "    else exports = {}\n",
       "    if (typeof module !== 'undefined') savedmodule = module;\n",
       "    else module = {}\n",
       "\n",
       "    var tag = document.createElement('script');\n",
       "    tag.src = uri;\n",
       "    tag.async = true;\n",
       "    tag.onload = () => {\n",
       "        exports = savedexports;\n",
       "        module = savedmodule;\n",
       "        resolve();\n",
       "    };\n",
       "  var firstScriptTag = document.getElementsByTagName('script')[0];\n",
       "  firstScriptTag.parentNode.insertBefore(tag, firstScriptTag);\n",
       "});\n",
       "};\n",
       "\n",
       "if(typeof $3Dmolpromise === 'undefined') {\n",
       "$3Dmolpromise = null;\n",
       "  $3Dmolpromise = loadScriptAsync('https://cdnjs.cloudflare.com/ajax/libs/3Dmol/2.4.2/3Dmol-min.js');\n",
       "}\n",
       "\n",
       "var viewer_17453136505500708 = null;\n",
       "var warn = document.getElementById(\"3dmolwarning_17453136505500708\");\n",
       "if(warn) {\n",
       "    warn.parentNode.removeChild(warn);\n",
       "}\n",
       "$3Dmolpromise.then(function() {\n",
       "viewer_17453136505500708 = $3Dmol.createViewer(document.getElementById(\"3dmolviewer_17453136505500708\"),{backgroundColor:\"white\"});\n",
       "viewer_17453136505500708.zoomTo();\n",
       "\tviewer_17453136505500708.addModel(\"\",\"pdb\");\n",
       "\tviewer_17453136505500708.setStyle({\"cartoon\": {\"color\": \"spectrum\", \"opacity\": 0.7}});\n",
       "\tviewer_17453136505500708.addModel(\"ATOM      1   Ne BOX X   1      66.000 -34.000 -65.000  1.00 10.00          Ne\\nATOM      2   Ne BOX X   2      86.000 -34.000 -65.000  1.00 10.00          Ne\\nATOM      3   Ne BOX X   3      86.000 -24.000 -65.000  1.00 10.00          Ne\\nATOM      4   Ne BOX X   4      66.000 -24.000 -65.000  1.00 10.00          Ne\\nATOM      5   Ne BOX X   5      66.000 -34.000 -53.000  1.00 10.00          Ne\\nATOM      6   Ne BOX X   6      86.000 -34.000 -53.000  1.00 10.00          Ne\\nATOM      7   Ne BOX X   7      86.000 -24.000 -53.000  1.00 10.00          Ne\\nATOM      8   Ne BOX X   8      66.000 -24.000 -53.000  1.00 10.00          Ne\\n\\n    CONECT    1    2\\n    CONECT    1    4\\n    CONECT    1    5\\n    CONECT    2    3\\n    CONECT    2    6\\n    CONECT    3    4\\n    CONECT    3    7\\n    CONECT    4    8\\n    CONECT    5    6\\n    CONECT    5    8\\n    CONECT    6    7\\n    CONECT    7    8\\n    \",\"pdb\");\n",
       "\tviewer_17453136505500708.addStyle({\"elem\": \"Ne\"},{\"stick\": {}});\n",
       "\tviewer_17453136505500708.addModel(\"ATOM      1  O   UNL     1      75.728 -29.210 -60.684  1.00  0.00    -0.338 OA\\nATOM      2  C   UNL     1      76.728 -30.165 -60.395  1.00  0.00     0.088 C \\nATOM      3  C   UNL     1      78.652 -30.488 -58.969  1.00  0.00     0.216 C \\nATOM      4  C   UNL     1      77.599 -29.487 -59.426  1.00  0.00    -0.021 C \\nATOM      5  O   UNL     1      79.464 -30.889 -60.095  1.00  0.00    -0.338 OA\\nATOM      6  C   UNL     1      78.725 -31.463 -61.212  1.00  0.00     0.081 C \\nATOM      7  C   UNL     1      77.592 -30.514 -61.602  1.00  0.00    -0.053 C \\nATOM      8  O   UNL     1      76.820 -28.923 -58.382  1.00  0.00    -0.844 OA\\nATOM      9  O   UNL     1      78.195 -29.303 -62.092  1.00  0.00    -0.846 OA\\nATOM     10  O   UNL     1      79.376 -29.740 -57.991  1.00  0.00    -0.334 OA\\nATOM     11  C   UNL     1      80.047 -30.600 -57.115  1.00  0.00     0.123 C \\nATOM     12  C   UNL     1      81.665 -30.734 -54.782  1.00  0.00    -0.003 C \\nATOM     13  C   UNL     1      82.284 -31.123 -56.117  1.00  0.00    -0.115 C \\nATOM     14  O   UNL     1      80.274 -31.043 -54.783  1.00  0.00    -0.380 OA\\nATOM     15  C   UNL     1      81.539 -30.344 -57.204  1.00  0.00    -0.094 C \\nATOM     16  C   UNL     1      79.496 -30.311 -55.749  1.00  0.00     0.118 C \\nATOM     17  O   UNL     1      82.203 -31.426 -53.734  1.00  0.00    -0.828 OA\\nATOM     18  O   UNL     1      83.684 -30.856 -56.083  1.00  0.00    -0.849 OA\\nATOM     19  O   UNL     1      81.957 -30.625 -58.532  1.00  0.00    -0.848 OA\\nATOM     20  C   UNL     1      78.059 -30.780 -55.590  1.00  0.00    -0.093 C \\nATOM     21  O   UNL     1      77.578 -30.397 -54.303  1.00  0.00    -0.848 OA\\nATOM     22  C   UNL     1      79.725 -31.668 -62.348  1.00  0.00    -0.097 C \\nATOM     23  O   UNL     1      81.068 -31.882 -61.874  1.00  0.00    -0.848 OA\\nATOM     24  C   UNL     1      74.378 -29.621 -60.688  1.00  0.00     0.215 C \\nATOM     25  C   UNL     1      73.518 -28.538 -61.368  1.00  0.00    -0.013 C \\nATOM     26  O   UNL     1      74.167 -30.897 -61.279  1.00  0.00    -0.338 OA\\nATOM     27  C   UNL     1      72.047 -28.968 -61.292  1.00  0.00     0.087 C \\nATOM     28  C   UNL     1      72.821 -31.353 -61.072  1.00  0.00     0.081 C \\nATOM     29  C   UNL     1      71.846 -30.417 -61.801  1.00  0.00    -0.053 C \\nATOM     30  O   UNL     1      70.541 -30.955 -61.552  1.00  0.00    -0.846 OA\\nATOM     31  N   UNL     1      73.669 -27.167 -60.911  1.00  0.00    -0.641 NA\\nATOM     32  C   UNL     1      74.134 -26.769 -59.714  1.00  0.00     0.061 C \\nATOM     33  O   UNL     1      74.318 -27.542 -58.770  1.00  0.00    -0.320 OA\\nATOM     34  C   UNL     1      74.490 -25.322 -59.593  1.00  0.00     0.051 C \\nATOM     35  O   UNL     1      71.413 -27.982 -62.096  1.00  0.00    -0.338 OA\\nATOM     36  C   UNL     1      70.072 -27.530 -61.687  1.00  0.00     0.212 C \\nATOM     37  C   UNL     1      69.672 -26.215 -62.381  1.00  0.00    -0.069 C \\nATOM     38  O   UNL     1      69.216 -28.627 -62.050  1.00  0.00    -0.338 OA\\nATOM     39  C   UNL     1      68.141 -26.030 -62.562  1.00  0.00    -0.138 C \\nATOM     40  C   UNL     1      67.855 -28.355 -61.649  1.00  0.00     0.077 C \\nATOM     41  C   UNL     1      67.358 -27.314 -62.620  1.00  0.00    -0.101 C \\nATOM     42  O   UNL     1      70.274 -25.160 -61.658  1.00  0.00    -0.847 OA\\nATOM     43  O   UNL     1      67.880 -25.393 -63.814  1.00  0.00    -0.851 OA\\nATOM     44  O   UNL     1      67.579 -27.838 -63.923  1.00  0.00    -0.848 OA\\nATOM     45  C   UNL     1      67.053 -29.665 -61.647  1.00  0.00    -0.097 C \\nATOM     46  O   UNL     1      67.038 -30.415 -62.854  1.00  0.00    -0.848 OA\\nATOM     47  C   UNL     1      72.811 -32.788 -61.546  1.00  0.00    -0.097 C \\nATOM     48  O   UNL     1      73.202 -32.858 -62.934  1.00  0.00    -0.848 OA\\n\",\"pdb\");\n",
       "\tviewer_17453136505500708.addStyle({\"model\": -1},{\"stick\": {\"colorscheme\": \"greenCarbon\"}});\n",
       "\tviewer_17453136505500708.zoomTo();\n",
       "viewer_17453136505500708.render();\n",
       "});\n",
       "</script>"
      ]
     },
     "metadata": {},
     "output_type": "display_data"
    }
   ],
   "source": [
    "# Create docking grid \n",
    "center = [76, -29, -59]\n",
    "size = [20, 10, 12]\n",
    "box = box2pdb(center, size)\n",
    "\n",
    "# Visualize complex + grid\n",
    "view = py3Dmol.view(width=500, height=500)\n",
    "view.addModel(receptor, 'pdb')\n",
    "view.setStyle({'cartoon': {'color':'spectrum', 'opacity': 0.7}})\n",
    "view.addModel(box, 'pdb')\n",
    "view.addStyle({'elem': 'Ne'}, {'stick': {}})\n",
    "view.addModel(ligand, 'pdb')\n",
    "view.addStyle({'model':-1}, {\"stick\": {'colorscheme': 'greenCarbon'}})\n",
    "view.zoomTo()\n",
    "view.show()"
   ]
  },
  {
   "cell_type": "code",
   "execution_count": 30,
   "id": "8fe805c3",
   "metadata": {},
   "outputs": [
    {
     "ename": "NameError",
     "evalue": "name 'AutoDockVina' is not defined",
     "output_type": "error",
     "traceback": [
      "\u001b[1;31m---------------------------------------------------------------------------\u001b[0m",
      "\u001b[1;31mNameError\u001b[0m                                 Traceback (most recent call last)",
      "Cell \u001b[1;32mIn[30], line 4\u001b[0m\n\u001b[0;32m      2\u001b[0m receptor_file \u001b[38;5;241m=\u001b[39m \u001b[38;5;124mf\u001b[39m\u001b[38;5;124m'\u001b[39m\u001b[38;5;132;01m{\u001b[39;00mMOL\u001b[38;5;132;01m}\u001b[39;00m\u001b[38;5;124m/breve.pdbqt\u001b[39m\u001b[38;5;124m'\u001b[39m\n\u001b[0;32m      3\u001b[0m ligand_file \u001b[38;5;241m=\u001b[39m \u001b[38;5;124mf\u001b[39m\u001b[38;5;124m'\u001b[39m\u001b[38;5;132;01m{\u001b[39;00mMOL\u001b[38;5;132;01m}\u001b[39;00m\u001b[38;5;124m/ligand.pdbqt\u001b[39m\u001b[38;5;124m'\u001b[39m\n\u001b[1;32m----> 4\u001b[0m vina \u001b[38;5;241m=\u001b[39m \u001b[43mAutoDockVina\u001b[49m(receptor_file, ligand_file)\n\u001b[0;32m      5\u001b[0m exhaustiveness \u001b[38;5;241m=\u001b[39m \u001b[38;5;241m30\u001b[39m\n\u001b[0;32m      6\u001b[0m num_poses \u001b[38;5;241m=\u001b[39m \u001b[38;5;241m20\u001b[39m\n",
      "\u001b[1;31mNameError\u001b[0m: name 'AutoDockVina' is not defined"
     ]
    }
   ],
   "source": [
    "# Run docking\n",
    "receptor_file = f'{MOL}/breve.pdbqt'\n",
    "ligand_file = f'{MOL}/ligand.pdbqt'\n",
    "vina = AutoDockVina(receptor_file, ligand_file)\n",
    "exhaustiveness = 30\n",
    "num_poses = 20\n",
    "vina.dock(\n",
    "    center=center, \n",
    "    box_size=size, \n",
    "    exhaustiveness=exhaustiveness, \n",
    "    n_poses=num_poses, \n",
    "    output_name=f'{MOL}/output'\n",
    "    ) "
   ]
  },
  {
   "cell_type": "code",
   "execution_count": null,
   "id": "2ac89376",
   "metadata": {},
   "outputs": [],
   "source": [
    "# Report results\n",
    "vina.report()"
   ]
  },
  {
   "cell_type": "code",
   "execution_count": null,
   "id": "53cdad21",
   "metadata": {},
   "outputs": [],
   "source": [
    "# Create docking grid \n",
    "box = box2pdb(center, size)\n",
    "\n",
    "# Visualize complex + grid + poses\n",
    "def slider(pose: int):\n",
    "    print(f'Pose {pose}')\n",
    "    poses = read_mol(f'{MOL}/output.pdbqt')\n",
    "    pose = poses.split('ENDMDL\\n')[:-1][pose - 1]\n",
    "    view = py3Dmol.view(width=500, height=500)\n",
    "    view.addModel(ligand, 'pdb')\n",
    "    view.addStyle({'model':-1}, {\"stick\": {'colorscheme': 'greenCarbon'}})\n",
    "    \n",
    "    view.addModel(box, 'pdb')\n",
    "    view.addStyle({'elem': 'Ne'}, {'stick': {}})\n",
    "    view.zoomTo()\n",
    "    view.addModel(receptor, 'pdb')\n",
    "    view.setStyle({'model':-1}, {'cartoon': {'color':'spectrum', 'opacity': 0.9}})\n",
    "    view.addModel(pose, 'pdb')\n",
    "    view.addStyle({'model':-1}, {\"stick\": {'colorscheme': 'pinkCarbon'}})\n",
    "    \n",
    "    view.show()\n",
    "    \n",
    "\n",
    "interact(slider, pose=IntSlider(min=1, max=num_poses - 1, step=1))"
   ]
  },
  {
   "cell_type": "code",
   "execution_count": null,
   "id": "d2c395f6",
   "metadata": {},
   "outputs": [],
   "source": []
  }
 ],
 "metadata": {
  "kernelspec": {
   "display_name": "Python 3",
   "language": "python",
   "name": "python3"
  },
  "language_info": {
   "codemirror_mode": {
    "name": "ipython",
    "version": 3
   },
   "file_extension": ".py",
   "mimetype": "text/x-python",
   "name": "python",
   "nbconvert_exporter": "python",
   "pygments_lexer": "ipython3",
   "version": "undefined.undefined.undefined"
  }
 },
 "nbformat": 4,
 "nbformat_minor": 5
}
